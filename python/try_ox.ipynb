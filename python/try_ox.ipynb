{
 "cells": [
  {
   "cell_type": "code",
   "execution_count": 2,
   "metadata": {},
   "outputs": [
    {
     "name": "stdout",
     "output_type": "stream",
     "text": [
      "1/1 [==============================] - 0s 195ms/step\n",
      "1/1 [==============================] - 0s 17ms/step\n",
      "1/1 [==============================] - 0s 36ms/step\n"
     ]
    }
   ],
   "source": [
    "exec(open('ox_hl.py').read())"
   ]
  },
  {
   "cell_type": "code",
   "execution_count": 10,
   "metadata": {},
   "outputs": [
    {
     "name": "stdout",
     "output_type": "stream",
     "text": [
      "1/1 [==============================] - 0s 27ms/step\n",
      "[[1. 1. 1. 1. 1. 1. 1. 1. 1.]]\n",
      "1/1 [==============================] - 0s 50ms/step\n",
      "[[1. 0. 1. 1. 1. 1. 1. 1. 1.]]\n",
      "1/1 [==============================] - 0s 18ms/step\n",
      "[[1. 0. 1. 1. 0. 1. 1. 1. 1.]]\n"
     ]
    }
   ],
   "source": [
    "make_plays_model()\n",
    "pq = empty_board.copy()\n",
    "print(plays_model.predict(pq.reshape(1, 9, 2)))\n",
    "add_o(pq, 1)\n",
    "print(plays_model.predict(pq.reshape(1, 9, 2)))\n",
    "add_x(pq, 4)\n",
    "print(plays_model.predict(pq.reshape(1, 9, 2)))\n"
   ]
  },
  {
   "cell_type": "code",
   "execution_count": 13,
   "metadata": {},
   "outputs": [
    {
     "name": "stdout",
     "output_type": "stream",
     "text": [
      "Draws, wins for trained network, wins for perfect network: [97, 0, 3]\n",
      "Illegal moves by trained network, illegal moves by perfect network: [3, 0]\n"
     ]
    }
   ],
   "source": [
    "scores, illegals = play_match(res_model_move, suggest_move)\n",
    "print(f'Draws, wins for trained network, wins for perfect network: {scores}')\n",
    "print(f'Illegal moves by trained network, illegal moves by perfect network: {illegals}')\n",
    "\n"
   ]
  },
  {
   "cell_type": "code",
   "execution_count": 12,
   "metadata": {},
   "outputs": [
    {
     "data": {
      "text/plain": [
       "([95, 0, 5], [4, 0])"
      ]
     },
     "execution_count": 12,
     "metadata": {},
     "output_type": "execute_result"
    }
   ],
   "source": [
    "scores, illegals"
   ]
  },
  {
   "cell_type": "code",
   "execution_count": null,
   "metadata": {},
   "outputs": [],
   "source": []
  }
 ],
 "metadata": {
  "kernelspec": {
   "display_name": "Python 3",
   "language": "python",
   "name": "python3"
  },
  "language_info": {
   "codemirror_mode": {
    "name": "ipython",
    "version": 3
   },
   "file_extension": ".py",
   "mimetype": "text/x-python",
   "name": "python",
   "nbconvert_exporter": "python",
   "pygments_lexer": "ipython3",
   "version": "3.11.5"
  }
 },
 "nbformat": 4,
 "nbformat_minor": 2
}
