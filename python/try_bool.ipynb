{
 "cells": [
  {
   "cell_type": "code",
   "execution_count": 2,
   "metadata": {},
   "outputs": [],
   "source": [
    "exec(open('bool_hl.py').read())"
   ]
  },
  {
   "cell_type": "code",
   "execution_count": 3,
   "metadata": {},
   "outputs": [
    {
     "name": "stdout",
     "output_type": "stream",
     "text": [
      "Model: \"light_model\"\n",
      "_________________________________________________________________\n",
      " Layer (type)                Output Shape              Param #   \n",
      "=================================================================\n",
      " input_1 (InputLayer)        [(None, 3)]               0         \n",
      "                                                                 \n",
      " dense (Dense)               (None, 7)                 28        \n",
      "                                                                 \n",
      " dense_1 (Dense)             (None, 1)                 8         \n",
      "                                                                 \n",
      "=================================================================\n",
      "Total params: 36 (144.00 Byte)\n",
      "Trainable params: 36 (144.00 Byte)\n",
      "Non-trainable params: 0 (0.00 Byte)\n",
      "_________________________________________________________________\n",
      "1/1 [==============================] - 0s 180ms/step - loss: 0.0000e+00 - accuracy: 1.0000\n"
     ]
    },
    {
     "data": {
      "text/plain": [
       "[0.0, 1.0]"
      ]
     },
     "execution_count": 3,
     "metadata": {},
     "output_type": "execute_result"
    }
   ],
   "source": [
    "n = 3\n",
    "x_all3 = np.array(list(itertools.product(*[[0,1]]*n)))\n",
    "y_all3 = np.array(list(itertools.product(*[[0,1]]*(2**n)))).T\n",
    "u = 1 * (np.random.random(8) >= 0.5)\n",
    "make_light_model(u)\n",
    "light_model.summary()\n",
    "light_model.evaluate(x_all3, u.reshape(8,1))\n"
   ]
  },
  {
   "cell_type": "code",
   "execution_count": 4,
   "metadata": {},
   "outputs": [],
   "source": [
    "def make_approx_light_model(u, m=None, d=1, r=0.001):\n",
    "    global approx_light_model\n",
    "    n = int(np.log2(u.shape[0]))\n",
    "    if m is None:\n",
    "        m = 2**n-1\n",
    "    layers = [tf.keras.Input(shape=(n))]\n",
    "    for i in range(d):\n",
    "        layers.append(tf.keras.layers.Dense(m, activation='relu')(layers[-1]))\n",
    "    out = layers.append(tf.keras.layers.Dense(1, activation='linear')(layers[-1]))\n",
    "    approx_light_model = tf.keras.Model(inputs=layers[0], outputs=layers[-1], name='approx_light_model')\n",
    "    opt = tf.keras.optimizers.Adam(learning_rate=r)\n",
    "    approx_light_model.compile(loss=\"mean_squared_error\", optimizer=opt, metrics=[\"mean_squared_error\"])\n",
    "\n",
    "def train_approx_light_model(u, epochs):\n",
    "    n = int(np.log2(u.shape[0]))\n",
    "    x_all = np.array(list(itertools.product(*[[0,1]]*n)))\n",
    "    y_all = u.reshape(2**n,1)\n",
    "    print(f'Shapes: x_all={x_all.shape}, y_all={y_all.shape}')\n",
    "    ds_all = tf.data.Dataset.from_tensors((x_all, y_all))\n",
    "    approx_light_model.fit(ds_all, epochs=epochs, verbose=0)"
   ]
  },
  {
   "cell_type": "code",
   "execution_count": 72,
   "metadata": {},
   "outputs": [
    {
     "name": "stdout",
     "output_type": "stream",
     "text": [
      "[0 0 0 1 1 0 0 1]\n",
      "Shapes: x_all=(8, 3), y_all=(8, 1)\n",
      "1/1 [==============================] - 0s 72ms/step - loss: 0.1786 - mean_squared_error: 0.1786\n",
      "1/1 [==============================] - 0s 34ms/step\n",
      "[[0 0 0 1 1 0 0 1]\n",
      " [0 0 0 1 0 0 0 0]]\n",
      "1/1 [==============================] - 0s 17ms/step - loss: 0.2500 - mean_squared_error: 0.2500\n"
     ]
    },
    {
     "data": {
      "text/plain": [
       "[0.25, 0.25]"
      ]
     },
     "execution_count": 72,
     "metadata": {},
     "output_type": "execute_result"
    }
   ],
   "source": [
    "u = 1 * (np.random.random(8) >= 0.5)\n",
    "# u = np.array([0,1,1,0,1,0,0,1])\n",
    "# u = np.array([0,0,0,1,1,1,1,0])\n",
    "print(u)\n",
    "make_approx_light_model(u, m=3, d=1, r=0.02)\n",
    "# approx_light_model.summary()\n",
    "train_approx_light_model(u, 25000)\n",
    "approx_light_model.evaluate(x_all3, u)\n",
    "v = approx_light_model.predict(x_all3).reshape(8)\n",
    "w = 1 * (v >= 0.5)\n",
    "print(np.array([u,w]))\n",
    "w0 = approx_light_model.layers[1].get_weights()[0]\n",
    "b0 = approx_light_model.layers[1].get_weights()[1]\n",
    "w1 = approx_light_model.layers[2].get_weights()[0]\n",
    "b1 = approx_light_model.layers[2].get_weights()[1]\n",
    "ww1 = np.round(w1 / np.abs(w1))\n",
    "bb0 = np.round((b0 * np.abs(w1).T).reshape(3))\n",
    "ww0 = np.round(w0 * np.abs(w1.T))\n",
    "bb1 = np.round(b1)\n",
    "approx_light_model.layers[2].set_weights([ww1, bb1])\n",
    "approx_light_model.layers[1].set_weights([ww0, bb0])\n",
    "approx_light_model.evaluate(x_all3, u)\n"
   ]
  },
  {
   "cell_type": "code",
   "execution_count": 67,
   "metadata": {},
   "outputs": [
    {
     "name": "stdout",
     "output_type": "stream",
     "text": [
      "[[-0.  1.  1.]\n",
      " [ 1.  1.  0.]\n",
      " [ 1.  1. -1.]]\n",
      "[-0. -1. -0.]\n",
      "[[ 1.]\n",
      " [-1.]\n",
      " [ 1.]]\n",
      "[0.]\n"
     ]
    }
   ],
   "source": [
    "print(np.round(ww0))\n",
    "print(np.round(bb0))\n",
    "print(np.round(ww1))\n",
    "print(np.round(b1))"
   ]
  },
  {
   "cell_type": "code",
   "execution_count": 63,
   "metadata": {},
   "outputs": [
    {
     "name": "stdout",
     "output_type": "stream",
     "text": [
      "1/1 [==============================] - 0s 19ms/step - loss: 0.0000e+00 - mean_squared_error: 0.0000e+00\n"
     ]
    },
    {
     "data": {
      "text/plain": [
       "[0.0, 0.0]"
      ]
     },
     "execution_count": 63,
     "metadata": {},
     "output_type": "execute_result"
    }
   ],
   "source": [
    "approx_light_model.layers[2].set_weights([np.round(ww1), np.round(b1)])\n",
    "approx_light_model.layers[1].set_weights([np.round(ww0), np.round(bb0)])\n",
    "approx_light_model.evaluate(x_all3, u)\n"
   ]
  },
  {
   "cell_type": "code",
   "execution_count": 13,
   "metadata": {},
   "outputs": [
    {
     "name": "stdout",
     "output_type": "stream",
     "text": [
      "[[-1.0900205   0.8072575  -1.3302488 ]\n",
      " [-0.64293903 -0.9164408   1.1472802 ]\n",
      " [-0.89299357  1.079913    0.1365029 ]]\n",
      "[ 0.806028   -1.0909777  -0.60915065]\n",
      "[[1.2406517]\n",
      " [1.255977 ]\n",
      " [1.4822887]]\n",
      "[8.484423e-37]\n"
     ]
    }
   ],
   "source": [
    "print(w0 := approx_light_model.layers[1].get_weights()[0])\n",
    "print(b0 := approx_light_model.layers[1].get_weights()[1])\n",
    "print(w1 := approx_light_model.layers[2].get_weights()[0])\n",
    "print(b1 := approx_light_model.layers[2].get_weights()[1])\n"
   ]
  },
  {
   "cell_type": "code",
   "execution_count": 47,
   "metadata": {},
   "outputs": [
    {
     "name": "stdout",
     "output_type": "stream",
     "text": [
      "[[-1.3523358   1.0138968  -1.9718128 ]\n",
      " [-0.7976634  -1.1510286   1.7006005 ]\n",
      " [-1.1078941   1.356346    0.20233671]]\n",
      "[[-1.3523358   1.0138968  -1.9718128 ]\n",
      " [-0.7976634  -1.1510286   1.7006005 ]\n",
      " [-1.1078941   1.356346    0.20233671]]\n"
     ]
    }
   ],
   "source": [
    "D = np.diag(w1.reshape(3))\n",
    "print(w0 @ D)\n",
    "print(w0 * w1.T)"
   ]
  },
  {
   "cell_type": "code",
   "execution_count": 48,
   "metadata": {},
   "outputs": [],
   "source": [
    "ww1 = w1 / np.abs(w1)\n",
    "bb0 = (b0 * np.abs(w1).T).reshape(3)\n",
    "ww0 = w0 * np.abs(w1.T)"
   ]
  },
  {
   "cell_type": "code",
   "execution_count": 39,
   "metadata": {},
   "outputs": [
    {
     "data": {
      "text/plain": [
       "((3, 3), (3, 3))"
      ]
     },
     "execution_count": 39,
     "metadata": {},
     "output_type": "execute_result"
    }
   ],
   "source": [
    "ww0.shape, w0.shape"
   ]
  },
  {
   "cell_type": "code",
   "execution_count": 49,
   "metadata": {},
   "outputs": [
    {
     "name": "stdout",
     "output_type": "stream",
     "text": [
      "1/1 [==============================] - 0s 16ms/step\n",
      "[[2.5440958]]\n",
      "[2.54409588]\n",
      "[2.54409583]\n"
     ]
    }
   ],
   "source": [
    "t0 = np.array([1,2,3])\n",
    "print(approx_light_model.predict(t0.reshape(1,3)))\n",
    "print(w1.T @ np.maximum(w0.T @ t0 + b0,0) + b1)\n",
    "print(ww1.T @ np.maximum(ww0.T @ t0 + bb0,0) + b1)"
   ]
  },
  {
   "cell_type": "code",
   "execution_count": 50,
   "metadata": {},
   "outputs": [
    {
     "name": "stdout",
     "output_type": "stream",
     "text": [
      "[[-1.3523358   1.0138968  -1.9718128 ]\n",
      " [-0.7976634  -1.1510286   1.7006005 ]\n",
      " [-1.1078941   1.356346    0.20233671]]\n",
      "[ 1.        -1.370243  -0.9029371]\n",
      "[[1.]\n",
      " [1.]\n",
      " [1.]]\n",
      "[8.484423e-37]\n"
     ]
    }
   ],
   "source": [
    "print(ww0)\n",
    "print(bb0)\n",
    "print(ww1)\n",
    "print(b1)"
   ]
  },
  {
   "cell_type": "code",
   "execution_count": 62,
   "metadata": {},
   "outputs": [
    {
     "name": "stdout",
     "output_type": "stream",
     "text": [
      "1/1 [==============================] - 0s 15ms/step\n",
      "[[0 1 1 0 1 0 0 1]\n",
      " [0 1 1 0 1 0 0 1]]\n"
     ]
    }
   ],
   "source": [
    "approx_light_model.layers[1].set_weights([np.array([[1,-1,-1],[-1,1,-1],[-1,-1,1],[1,1,1]]).T, np.array([0,0,0,-2])])\n",
    "approx_light_model.layers[2].set_weights([np.array([[1,1,1,1]]).T, np.array([0])])\n",
    "#approx_light_model.predict(x_all3)\n",
    "v = approx_light_model.predict(x_all3).reshape(8)\n",
    "w = 1 * (v >= 0.5)\n",
    "print(np.array([u,w]))\n"
   ]
  },
  {
   "cell_type": "code",
   "execution_count": 54,
   "metadata": {},
   "outputs": [
    {
     "data": {
      "text/plain": [
       "[<tf.Variable 'dense_66/kernel:0' shape=(4, 1) dtype=float32, numpy=\n",
       " array([[ 0.3391559],\n",
       "        [-0.7351508],\n",
       "        [ 1.4711301],\n",
       "        [-1.0265578]], dtype=float32)>,\n",
       " <tf.Variable 'dense_66/bias:0' shape=(1,) dtype=float32, numpy=array([0.49995717], dtype=float32)>]"
      ]
     },
     "execution_count": 54,
     "metadata": {},
     "output_type": "execute_result"
    }
   ],
   "source": [
    "approx_light_model.layers[2].weights\n"
   ]
  },
  {
   "cell_type": "code",
   "execution_count": 5,
   "metadata": {},
   "outputs": [
    {
     "name": "stdout",
     "output_type": "stream",
     "text": [
      "1/1 [==============================] - 0s 22ms/step - loss: 0.0000e+00 - accuracy: 1.0000\n",
      "loss=0.0\n",
      "accuracy=1.0\n"
     ]
    }
   ],
   "source": [
    "metric_names = list([m.name for m in exact_model.metrics])\n",
    "metrics = exact_model.evaluate(x_all, y_all)\n",
    "[print(f'{u[0]}={u[1]}') for u in zip(metric_names, metrics)]\n",
    "None"
   ]
  },
  {
   "cell_type": "code",
   "execution_count": 6,
   "metadata": {},
   "outputs": [
    {
     "name": "stdout",
     "output_type": "stream",
     "text": [
      "1/1 [==============================] - 0s 22ms/step - loss: 0.0000e+00 - accuracy: 1.0000\n",
      "loss=0.0\n",
      "accuracy=1.0\n"
     ]
    },
    {
     "data": {
      "text/plain": [
       "[None, None]"
      ]
     },
     "execution_count": 6,
     "metadata": {},
     "output_type": "execute_result"
    }
   ],
   "source": [
    "[print(f'{u[0]}={u[1]}') for u in list(zip([m.name for m in exact_model.metrics], exact_model.evaluate(x_all, y_all)))]"
   ]
  },
  {
   "cell_type": "code",
   "execution_count": 10,
   "metadata": {},
   "outputs": [
    {
     "name": "stdout",
     "output_type": "stream",
     "text": [
      "0out of8\n",
      "1out of8\n",
      "2out of8\n",
      "3out of8\n",
      "4out of8\n",
      "5out of8\n",
      "6out of8\n",
      "7out of8\n",
      "Model: \"n_model\"\n",
      "_________________________________________________________________\n",
      " Layer (type)                Output Shape              Param #   \n",
      "=================================================================\n",
      " input_2 (InputLayer)        [(None, 3)]               0         \n",
      "                                                                 \n",
      " dense_4 (Dense)             (None, 7)                 28        \n",
      "                                                                 \n",
      " dense_5 (Dense)             (None, 256)               2048      \n",
      "                                                                 \n",
      "=================================================================\n",
      "Total params: 2076 (8.11 KB)\n",
      "Trainable params: 2076 (8.11 KB)\n",
      "Non-trainable params: 0 (0.00 Byte)\n",
      "_________________________________________________________________\n"
     ]
    }
   ],
   "source": [
    "make_n_model(3)\n",
    "n_model.summary()\n",
    "# n_model.evaluate(x_all, y_all)"
   ]
  },
  {
   "cell_type": "code",
   "execution_count": 21,
   "metadata": {},
   "outputs": [
    {
     "name": "stdout",
     "output_type": "stream",
     "text": [
      "0out of8\n",
      "1out of8\n",
      "2out of8\n",
      "3out of8\n",
      "4out of8\n",
      "5out of8\n",
      "6out of8\n",
      "7out of8\n",
      "Model: \"n_model\"\n",
      "_________________________________________________________________\n",
      " Layer (type)                Output Shape              Param #   \n",
      "=================================================================\n",
      " input_5 (InputLayer)        [(None, 3)]               0         \n",
      "                                                                 \n",
      " dense_10 (Dense)            (None, 7)                 28        \n",
      "                                                                 \n",
      " dense_11 (Dense)            (None, 256)               2048      \n",
      "                                                                 \n",
      "=================================================================\n",
      "Total params: 2076 (8.11 KB)\n",
      "Trainable params: 2076 (8.11 KB)\n",
      "Non-trainable params: 0 (0.00 Byte)\n",
      "_________________________________________________________________\n"
     ]
    }
   ],
   "source": [
    "make_n_model(3)\n",
    "n_model.summary()"
   ]
  },
  {
   "cell_type": "code",
   "execution_count": 11,
   "metadata": {},
   "outputs": [],
   "source": [
    "n = 3\n",
    "x_all3 = np.array(list(itertools.product(*[[0,1]]*n)))\n",
    "y_all3 = np.array(list(itertools.product(*[[0,1]]*(2**n)))).T\n"
   ]
  },
  {
   "cell_type": "code",
   "execution_count": 12,
   "metadata": {},
   "outputs": [
    {
     "name": "stdout",
     "output_type": "stream",
     "text": [
      "1/1 [==============================] - 0s 146ms/step - loss: 0.0000e+00 - accuracy: 1.0000\n"
     ]
    },
    {
     "data": {
      "text/plain": [
       "[0.0, 1.0]"
      ]
     },
     "execution_count": 12,
     "metadata": {},
     "output_type": "execute_result"
    }
   ],
   "source": [
    "n_model.evaluate(x_all3, y_all3)\n"
   ]
  },
  {
   "cell_type": "code",
   "execution_count": 13,
   "metadata": {},
   "outputs": [
    {
     "name": "stdout",
     "output_type": "stream",
     "text": [
      "(8, 3)\n",
      "(8, 256)\n"
     ]
    }
   ],
   "source": [
    "print(x_all3.shape)\n",
    "print(y_all3.shape)"
   ]
  },
  {
   "cell_type": "code",
   "execution_count": 42,
   "metadata": {},
   "outputs": [
    {
     "name": "stdout",
     "output_type": "stream",
     "text": [
      "Model: \"light_model\"\n",
      "_________________________________________________________________\n",
      " Layer (type)                Output Shape              Param #   \n",
      "=================================================================\n",
      " input_11 (InputLayer)       [(None, 3)]               0         \n",
      "                                                                 \n",
      " dense_26 (Dense)            (None, 7)                 28        \n",
      "                                                                 \n",
      " dense_27 (Dense)            (None, 1)                 8         \n",
      "                                                                 \n",
      "=================================================================\n",
      "Total params: 36 (144.00 Byte)\n",
      "Trainable params: 36 (144.00 Byte)\n",
      "Non-trainable params: 0 (0.00 Byte)\n",
      "_________________________________________________________________\n"
     ]
    },
    {
     "name": "stdout",
     "output_type": "stream",
     "text": [
      "1/1 [==============================] - 0s 137ms/step - loss: 0.0000e+00 - accuracy: 1.0000\n"
     ]
    },
    {
     "data": {
      "text/plain": [
       "[0.0, 1.0]"
      ]
     },
     "execution_count": 42,
     "metadata": {},
     "output_type": "execute_result"
    }
   ],
   "source": [
    "u = 1 * (np.random.random(8) >= 0.5)\n",
    "make_light_model(u)\n",
    "light_model.summary()\n",
    "light_model.evaluate(x_all3, u.reshape(8,1))\n"
   ]
  },
  {
   "cell_type": "code",
   "execution_count": 43,
   "metadata": {},
   "outputs": [
    {
     "ename": "AttributeError",
     "evalue": "'NoneType' object has no attribute 'compile'",
     "output_type": "error",
     "traceback": [
      "\u001b[1;31m---------------------------------------------------------------------------\u001b[0m",
      "\u001b[1;31mAttributeError\u001b[0m                            Traceback (most recent call last)",
      "Cell \u001b[1;32mIn[43], line 1\u001b[0m\n\u001b[1;32m----> 1\u001b[0m \u001b[43mmake_approx_light_model\u001b[49m\u001b[43m(\u001b[49m\u001b[43mu\u001b[49m\u001b[43m,\u001b[49m\u001b[43m \u001b[49m\u001b[38;5;241;43m6\u001b[39;49m\u001b[43m)\u001b[49m\n",
      "File \u001b[1;32m<string>:211\u001b[0m, in \u001b[0;36mmake_approx_light_model\u001b[1;34m(u, m, r)\u001b[0m\n",
      "\u001b[1;31mAttributeError\u001b[0m: 'NoneType' object has no attribute 'compile'"
     ]
    }
   ],
   "source": []
  },
  {
   "cell_type": "code",
   "execution_count": 33,
   "metadata": {},
   "outputs": [
    {
     "data": {
      "text/plain": [
       "(8,)"
      ]
     },
     "execution_count": 33,
     "metadata": {},
     "output_type": "execute_result"
    }
   ],
   "source": [
    "u.shape"
   ]
  },
  {
   "cell_type": "code",
   "execution_count": 10,
   "metadata": {},
   "outputs": [],
   "source": [
    "make_approx_model()"
   ]
  },
  {
   "cell_type": "code",
   "execution_count": 11,
   "metadata": {},
   "outputs": [
    {
     "name": "stdout",
     "output_type": "stream",
     "text": [
      "Epoch 1/10\n"
     ]
    },
    {
     "ename": "ValueError",
     "evalue": "in user code:\n\n    File \"c:\\Program Files\\Python311\\Lib\\site-packages\\keras\\src\\engine\\training.py\", line 1338, in train_function  *\n        return step_function(self, iterator)\n    File \"c:\\Program Files\\Python311\\Lib\\site-packages\\keras\\src\\engine\\training.py\", line 1322, in step_function  **\n        outputs = model.distribute_strategy.run(run_step, args=(data,))\n    File \"c:\\Program Files\\Python311\\Lib\\site-packages\\keras\\src\\engine\\training.py\", line 1303, in run_step  **\n        outputs = model.train_step(data)\n    File \"c:\\Program Files\\Python311\\Lib\\site-packages\\keras\\src\\engine\\training.py\", line 1080, in train_step\n        y_pred = self(x, training=True)\n    File \"c:\\Program Files\\Python311\\Lib\\site-packages\\keras\\src\\utils\\traceback_utils.py\", line 70, in error_handler\n        raise e.with_traceback(filtered_tb) from None\n    File \"c:\\Program Files\\Python311\\Lib\\site-packages\\keras\\src\\engine\\input_spec.py\", line 253, in assert_input_compatibility\n        raise ValueError(\n\n    ValueError: Exception encountered when calling layer 'sequential_1' (type Sequential).\n    \n    Input 0 of layer \"dense_6\" is incompatible with the layer: expected min_ndim=2, found ndim=1. Full shape received: (2,)\n    \n    Call arguments received by layer 'sequential_1' (type Sequential):\n      • inputs=tf.Tensor(shape=(2,), dtype=int32)\n      • training=True\n      • mask=None\n",
     "output_type": "error",
     "traceback": [
      "\u001b[1;31m---------------------------------------------------------------------------\u001b[0m",
      "\u001b[1;31mValueError\u001b[0m                                Traceback (most recent call last)",
      "Cell \u001b[1;32mIn[11], line 1\u001b[0m\n\u001b[1;32m----> 1\u001b[0m \u001b[43mtrain_approx_model\u001b[49m\u001b[43m(\u001b[49m\u001b[38;5;241;43m10\u001b[39;49m\u001b[43m)\u001b[49m\n",
      "File \u001b[1;32m<string>:83\u001b[0m, in \u001b[0;36mtrain_approx_model\u001b[1;34m(epochs)\u001b[0m\n",
      "File \u001b[1;32mc:\\Program Files\\Python311\\Lib\\site-packages\\keras\\src\\utils\\traceback_utils.py:70\u001b[0m, in \u001b[0;36mfilter_traceback.<locals>.error_handler\u001b[1;34m(*args, **kwargs)\u001b[0m\n\u001b[0;32m     67\u001b[0m     filtered_tb \u001b[38;5;241m=\u001b[39m _process_traceback_frames(e\u001b[38;5;241m.\u001b[39m__traceback__)\n\u001b[0;32m     68\u001b[0m     \u001b[38;5;66;03m# To get the full stack trace, call:\u001b[39;00m\n\u001b[0;32m     69\u001b[0m     \u001b[38;5;66;03m# `tf.debugging.disable_traceback_filtering()`\u001b[39;00m\n\u001b[1;32m---> 70\u001b[0m     \u001b[38;5;28;01mraise\u001b[39;00m e\u001b[38;5;241m.\u001b[39mwith_traceback(filtered_tb) \u001b[38;5;28;01mfrom\u001b[39;00m \u001b[38;5;28;01mNone\u001b[39;00m\n\u001b[0;32m     71\u001b[0m \u001b[38;5;28;01mfinally\u001b[39;00m:\n\u001b[0;32m     72\u001b[0m     \u001b[38;5;28;01mdel\u001b[39;00m filtered_tb\n",
      "File \u001b[1;32m~\\AppData\\Local\\Temp\\__autograph_generated_file8am916ca.py:15\u001b[0m, in \u001b[0;36mouter_factory.<locals>.inner_factory.<locals>.tf__train_function\u001b[1;34m(iterator)\u001b[0m\n\u001b[0;32m     13\u001b[0m \u001b[38;5;28;01mtry\u001b[39;00m:\n\u001b[0;32m     14\u001b[0m     do_return \u001b[38;5;241m=\u001b[39m \u001b[38;5;28;01mTrue\u001b[39;00m\n\u001b[1;32m---> 15\u001b[0m     retval_ \u001b[38;5;241m=\u001b[39m ag__\u001b[38;5;241m.\u001b[39mconverted_call(ag__\u001b[38;5;241m.\u001b[39mld(step_function), (ag__\u001b[38;5;241m.\u001b[39mld(\u001b[38;5;28mself\u001b[39m), ag__\u001b[38;5;241m.\u001b[39mld(iterator)), \u001b[38;5;28;01mNone\u001b[39;00m, fscope)\n\u001b[0;32m     16\u001b[0m \u001b[38;5;28;01mexcept\u001b[39;00m:\n\u001b[0;32m     17\u001b[0m     do_return \u001b[38;5;241m=\u001b[39m \u001b[38;5;28;01mFalse\u001b[39;00m\n",
      "\u001b[1;31mValueError\u001b[0m: in user code:\n\n    File \"c:\\Program Files\\Python311\\Lib\\site-packages\\keras\\src\\engine\\training.py\", line 1338, in train_function  *\n        return step_function(self, iterator)\n    File \"c:\\Program Files\\Python311\\Lib\\site-packages\\keras\\src\\engine\\training.py\", line 1322, in step_function  **\n        outputs = model.distribute_strategy.run(run_step, args=(data,))\n    File \"c:\\Program Files\\Python311\\Lib\\site-packages\\keras\\src\\engine\\training.py\", line 1303, in run_step  **\n        outputs = model.train_step(data)\n    File \"c:\\Program Files\\Python311\\Lib\\site-packages\\keras\\src\\engine\\training.py\", line 1080, in train_step\n        y_pred = self(x, training=True)\n    File \"c:\\Program Files\\Python311\\Lib\\site-packages\\keras\\src\\utils\\traceback_utils.py\", line 70, in error_handler\n        raise e.with_traceback(filtered_tb) from None\n    File \"c:\\Program Files\\Python311\\Lib\\site-packages\\keras\\src\\engine\\input_spec.py\", line 253, in assert_input_compatibility\n        raise ValueError(\n\n    ValueError: Exception encountered when calling layer 'sequential_1' (type Sequential).\n    \n    Input 0 of layer \"dense_6\" is incompatible with the layer: expected min_ndim=2, found ndim=1. Full shape received: (2,)\n    \n    Call arguments received by layer 'sequential_1' (type Sequential):\n      • inputs=tf.Tensor(shape=(2,), dtype=int32)\n      • training=True\n      • mask=None\n"
     ]
    }
   ],
   "source": [
    "train_approx_model(10)"
   ]
  },
  {
   "cell_type": "code",
   "execution_count": null,
   "metadata": {},
   "outputs": [],
   "source": []
  }
 ],
 "metadata": {
  "kernelspec": {
   "display_name": "Python 3",
   "language": "python",
   "name": "python3"
  },
  "language_info": {
   "codemirror_mode": {
    "name": "ipython",
    "version": 3
   },
   "file_extension": ".py",
   "mimetype": "text/x-python",
   "name": "python",
   "nbconvert_exporter": "python",
   "pygments_lexer": "ipython3",
   "version": "3.11.5"
  }
 },
 "nbformat": 4,
 "nbformat_minor": 2
}
