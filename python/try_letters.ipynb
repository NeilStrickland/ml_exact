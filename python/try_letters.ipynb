{
 "cells": [
  {
   "cell_type": "code",
   "execution_count": 1,
   "metadata": {},
   "outputs": [],
   "source": [
    "exec(open('letters_ns.py').read())"
   ]
  },
  {
   "cell_type": "code",
   "execution_count": 2,
   "metadata": {},
   "outputs": [],
   "source": [
    "LM = make_exact_letter_model()"
   ]
  },
  {
   "cell_type": "code",
   "execution_count": 3,
   "metadata": {},
   "outputs": [
    {
     "name": "stdout",
     "output_type": "stream",
     "text": [
      "      #    #               #       \n",
      " #    #    #               #       \n",
      " #    ###  ###   #  ###    #   ### \n",
      " #               #  #           #  \n",
      "                 #  ###         #  \n",
      "                                   \n"
     ]
    },
    {
     "data": {
      "image/png": "[encoded data removed]",
      "text/plain": [
       "<Figure size 640x480 with 1 Axes>"
      ]
     },
     "metadata": {},
     "output_type": "display_data"
    },
    {
     "name": "stdout",
     "output_type": "stream",
     "text": [
      "[  3   0   0   1   0   2   0   1   0   0 125]\n",
      "[  3   0   0   1   0   2   0   1   0   0 125]\n"
     ]
    }
   ],
   "source": [
    "word = 'illicit'\n",
    "G = make_ragged_grid(word)\n",
    "print(ascii_image(G))\n",
    "plt.axis('off')\n",
    "plt.imshow(G, cmap='gray')\n",
    "plt.show()\n",
    "GM = make_exact_grid_model(G.shape[1], G.shape[0])\n",
    "wc0 = [word.count(c) for c in letters]\n",
    "wc0.append((G.shape[0]-2) * (G.shape[1]-2) - np.sum(wc0))\n",
    "wc0 = np.array(wc0)\n",
    "print(wc0)\n",
    "wc1 = GM.predict(G.reshape(1,G.shape[0],G.shape[1]),verbose=0)[0]\n",
    "print(np.round(wc1).astype(int))\n",
    "None\n"
   ]
  },
  {
   "cell_type": "code",
   "execution_count": 4,
   "metadata": {},
   "outputs": [
    {
     "name": "stdout",
     "output_type": "stream",
     "text": [
      "[[ 5. 11.  6.  7. 42.  7.]]\n"
     ]
    }
   ],
   "source": [
    "M = make_zero_filter(6)\n",
    "print(M.predict(np.array([1,2,3,4,5,0,0,0,11,0,0,6,0,0,7,0,0,42,0,0,7,0]).reshape(1,-1,1),verbose=0))"
   ]
  },
  {
   "cell_type": "code",
   "execution_count": 5,
   "metadata": {},
   "outputs": [
    {
     "name": "stdout",
     "output_type": "stream",
     "text": [
      "[  10.  100. 1000.    0.    0.    0.]\n"
     ]
    }
   ],
   "source": [
    "p = 6\n",
    "M1 = make_zero_filter_alt(p)\n",
    "u1 = M1.predict(np.array([0,10,0,0,100,1000]).reshape((1,-1,1)),verbose=0)[0,2*p:]\n",
    "print(u1)"
   ]
  },
  {
   "cell_type": "code",
   "execution_count": 6,
   "metadata": {},
   "outputs": [
    {
     "name": "stdout",
     "output_type": "stream",
     "text": [
      "Model: \"gru_model\"\n",
      "__________________________________________________________________________________________________\n",
      " Layer (type)                Output Shape                 Param #   Connected to                  \n",
      "==================================================================================================\n",
      " input_5 (InputLayer)        [(None, 6, 20)]              0         []                            \n",
      "                                                                                                  \n",
      " reshape_3 (Reshape)         (None, 6, 20, 1)             0         ['input_5[0][0]']             \n",
      "                                                                                                  \n",
      " conv2d_1 (Conv2D)           (None, 4, 18, 11)            110       ['reshape_3[0][0]']           \n",
      "                                                                                                  \n",
      " max_pooling2d (MaxPooling2  (None, 1, 6, 11)             0         ['conv2d_1[0][0]']            \n",
      " D)                                                                                               \n",
      "                                                                                                  \n",
      " reshape_4 (Reshape)         (None, 6, 11)                0         ['max_pooling2d[0][0]']       \n",
      "                                                                                                  \n",
      " simple_rnn (SimpleRNN)      (None, 6, 1)                 13        ['reshape_4[0][0]']           \n",
      "                                                                                                  \n",
      " dense_3 (Dense)             (None, 6, 2)                 4         ['simple_rnn[0][0]']          \n",
      "                                                                                                  \n",
      " dense_4 (Dense)             (None, 6, 1)                 3         ['dense_3[0][0]']             \n",
      "                                                                                                  \n",
      " gru_2 (GRU)                 (None, 6, 1)                 12        ['dense_4[0][0]']             \n",
      "                                                                                                  \n",
      " dense_5 (Dense)             (None, 6, 18)                36        ['gru_2[0][0]']               \n",
      "                                                                                                  \n",
      " dense_6 (Dense)             (None, 6, 6)                 114       ['dense_5[0][0]']             \n",
      "                                                                                                  \n",
      " concatenate (Concatenate)   (None, 6, 7)                 0         ['dense_4[0][0]',             \n",
      "                                                                     'dense_6[0][0]']             \n",
      "                                                                                                  \n",
      " dense_7 (Dense)             (None, 6, 6)                 48        ['concatenate[0][0]']         \n",
      "                                                                                                  \n",
      " concatenate_1 (Concatenate  (None, 6, 7)                 0         ['simple_rnn[0][0]',          \n",
      " )                                                                   'dense_7[0][0]']             \n",
      "                                                                                                  \n",
      " gru_3 (GRU)                 (None, 6, 6)                 252       ['concatenate_1[0][0]']       \n",
      "                                                                                                  \n",
      "==================================================================================================\n",
      "Total params: 592 (2.31 KB)\n",
      "Trainable params: 592 (2.31 KB)\n",
      "Non-trainable params: 0 (0.00 Byte)\n",
      "__________________________________________________________________________________________________\n"
     ]
    }
   ],
   "source": [
    "M = gru_model(p=6,q=20)\n",
    "M.summary()"
   ]
  },
  {
   "cell_type": "code",
   "execution_count": 12,
   "metadata": {},
   "outputs": [
    {
     "name": "stdout",
     "output_type": "stream",
     "text": [
      "[[6. 0. 0. 0. 0. 0.]\n",
      " [6. 1. 0. 0. 0. 0.]\n",
      " [6. 1. 4. 0. 0. 0.]\n",
      " [6. 1. 4. 0. 0. 0.]\n",
      " [6. 1. 4. 1. 0. 0.]\n",
      " [6. 1. 4. 1. 8. 0.]]\n"
     ]
    }
   ],
   "source": [
    "word = 'licit'\n",
    "G = make_ragged_grid(word,20,6)\n",
    "u = M.predict(G.reshape(1,6,-1),verbose=0)[0]\n",
    "#M11 = tf.keras.Model(inputs = M.input, outputs = M.layers[11].output)\n",
    "#u11 = M11.predict(input_grid.reshape(1,6,20),verbose=0)[0]\n",
    "#M12 = tf.keras.Model(inputs = M.input, outputs = M.layers[12].output)\n",
    "#u12 = M12.predict(input_grid.reshape(1,6,20),verbose=0)[0]\n",
    "#M13 = tf.keras.Model(inputs = M.input, outputs = M.layers[13].output)\n",
    "#u13 = M13.predict(input_grid.reshape(1,6,20),verbose=0)[0]\n",
    "#print(u11)\n",
    "#print(u12)\n",
    "#print(u13)\n",
    "print(u)\n"
   ]
  },
  {
   "cell_type": "code",
   "execution_count": null,
   "metadata": {},
   "outputs": [],
   "source": []
  }
 ],
 "metadata": {
  "kernelspec": {
   "display_name": "Python 3",
   "language": "python",
   "name": "python3"
  },
  "language_info": {
   "codemirror_mode": {
    "name": "ipython",
    "version": 3
   },
   "file_extension": ".py",
   "mimetype": "text/x-python",
   "name": "python",
   "nbconvert_exporter": "python",
   "pygments_lexer": "ipython3",
   "version": "3.11.5"
  }
 },
 "nbformat": 4,
 "nbformat_minor": 2
}
